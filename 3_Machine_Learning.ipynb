{
 "cells": [
  {
   "cell_type": "code",
   "execution_count": 270,
   "id": "a10dc627",
   "metadata": {},
   "outputs": [],
   "source": [
    "import pandas as pd\n",
    "import numpy as np\n",
    "import matplotlib.pyplot as plt\n",
    "\n",
    "import warnings\n",
    "warnings.filterwarnings('ignore')\n",
    "\n",
    "from sklearn.metrics import mean_squared_error\n",
    "from sklearn.metrics import mean_absolute_error\n",
    "from sklearn.metrics import mean_absolute_percentage_error\n",
    "from sklearn.model_selection import train_test_split\n",
    "from sklearn.metrics import r2_score, mean_absolute_error, mean_squared_error\n",
    "from sklearn.ensemble import RandomForestRegressor\n",
    "from sklearn.model_selection import RandomizedSearchCV\n",
    "\n",
    "pd.options.display.max_columns = 100\n",
    "pd.options.display.max_rows = 500\n",
    "\n",
    "from pandas.tseries.offsets import DateOffset\n",
    "from scipy.stats import f_oneway\n",
    "from scipy import stats"
   ]
  },
  {
   "cell_type": "code",
   "execution_count": 271,
   "id": "ca777294",
   "metadata": {},
   "outputs": [],
   "source": [
    "## Importando a base Consolidada\n",
    "dividasMG = pd.read_csv(r'O:\\OneDrive\\ANDREIA\\MATERIAL_ESTUDOS\\PUC\\TCC\\Datasets\\Consolidado2021.csv', sep=';', parse_dates=True, encoding='iso-8859-1')"
   ]
  },
  {
   "cell_type": "code",
   "execution_count": 272,
   "id": "7f0cd849",
   "metadata": {},
   "outputs": [
    {
     "data": {
      "text/html": [
       "<div>\n",
       "<style scoped>\n",
       "    .dataframe tbody tr th:only-of-type {\n",
       "        vertical-align: middle;\n",
       "    }\n",
       "\n",
       "    .dataframe tbody tr th {\n",
       "        vertical-align: top;\n",
       "    }\n",
       "\n",
       "    .dataframe thead th {\n",
       "        text-align: right;\n",
       "    }\n",
       "</style>\n",
       "<table border=\"1\" class=\"dataframe\">\n",
       "  <thead>\n",
       "    <tr style=\"text-align: right;\">\n",
       "      <th></th>\n",
       "      <th>PERIODO</th>\n",
       "      <th>CPF_CNPJ</th>\n",
       "      <th>TIPO_PESSOA</th>\n",
       "      <th>TIPO_DEVEDOR</th>\n",
       "      <th>NOME_DEVEDOR</th>\n",
       "      <th>UF_UNIDADE_RESPONSAVEL</th>\n",
       "      <th>UNIDADE_RESPONSAVEL</th>\n",
       "      <th>ENTIDADE_RESPONSAVEL</th>\n",
       "      <th>UNIDADE_INSCRICAO</th>\n",
       "      <th>NUMERO_INSCRICAO</th>\n",
       "      <th>TIPO_SITUACAO_INSCRICAO</th>\n",
       "      <th>SITUACAO_INSCRICAO</th>\n",
       "      <th>RECEITA_PRINCIPAL</th>\n",
       "      <th>DATA_INSCRICAO</th>\n",
       "      <th>INDICADOR_AJUIZADO</th>\n",
       "      <th>VALOR_CONSOLIDADO</th>\n",
       "    </tr>\n",
       "  </thead>\n",
       "  <tbody>\n",
       "    <tr>\n",
       "      <th>0</th>\n",
       "      <td>01/01/2021</td>\n",
       "      <td>06.286.147/0001-76</td>\n",
       "      <td>Pessoa jurídica</td>\n",
       "      <td>Principal</td>\n",
       "      <td>ART BRINDES INDUSTRIA E COMERCIO EIRELI</td>\n",
       "      <td>MG</td>\n",
       "      <td>UBERABA</td>\n",
       "      <td>PGFN</td>\n",
       "      <td>UBERABA</td>\n",
       "      <td>CSMG201901085</td>\n",
       "      <td>Em cobrança</td>\n",
       "      <td>AJUIZADA</td>\n",
       "      <td>Contribuições LC110 (FGTS)</td>\n",
       "      <td>05/06/2019</td>\n",
       "      <td>SIM</td>\n",
       "      <td>2291.91</td>\n",
       "    </tr>\n",
       "    <tr>\n",
       "      <th>1</th>\n",
       "      <td>01/01/2021</td>\n",
       "      <td>06.286.147/0001-76</td>\n",
       "      <td>Pessoa jurídica</td>\n",
       "      <td>Principal</td>\n",
       "      <td>ART BRINDES INDUSTRIA E COMERCIO EIRELI</td>\n",
       "      <td>MG</td>\n",
       "      <td>UBERABA</td>\n",
       "      <td>PGFN</td>\n",
       "      <td>UBERABA</td>\n",
       "      <td>FGMG202100105</td>\n",
       "      <td>Em cobrança</td>\n",
       "      <td>INSCRITA</td>\n",
       "      <td>Contribuições FGTS</td>\n",
       "      <td>03/02/2021</td>\n",
       "      <td>NAO</td>\n",
       "      <td>66986.07</td>\n",
       "    </tr>\n",
       "    <tr>\n",
       "      <th>2</th>\n",
       "      <td>01/01/2021</td>\n",
       "      <td>17.268.863/0001-47</td>\n",
       "      <td>Pessoa jurídica</td>\n",
       "      <td>Principal</td>\n",
       "      <td>JOAQUIM GERVASIO COUTINHO</td>\n",
       "      <td>MG</td>\n",
       "      <td>MINAS GERAIS</td>\n",
       "      <td>PGFN</td>\n",
       "      <td>MINAS GERAIS</td>\n",
       "      <td>FGBH000083351</td>\n",
       "      <td>Em cobrança</td>\n",
       "      <td>AJUIZADA</td>\n",
       "      <td>Contribuições FGTS</td>\n",
       "      <td>05/08/1983</td>\n",
       "      <td>SIM</td>\n",
       "      <td>6354.85</td>\n",
       "    </tr>\n",
       "    <tr>\n",
       "      <th>3</th>\n",
       "      <td>01/01/2021</td>\n",
       "      <td>19.376.161/0001-02</td>\n",
       "      <td>Pessoa jurídica</td>\n",
       "      <td>Principal</td>\n",
       "      <td>HMAXX INDUSTRIA E COMERCIO DE ALIMENTOS E ADOC...</td>\n",
       "      <td>MG</td>\n",
       "      <td>MINAS GERAIS</td>\n",
       "      <td>PGFN</td>\n",
       "      <td>MINAS GERAIS</td>\n",
       "      <td>FGMG201902652</td>\n",
       "      <td>Em cobrança</td>\n",
       "      <td>INSCRITA</td>\n",
       "      <td>Contribuições FGTS</td>\n",
       "      <td>05/11/2019</td>\n",
       "      <td>NAO</td>\n",
       "      <td>12820.18</td>\n",
       "    </tr>\n",
       "    <tr>\n",
       "      <th>4</th>\n",
       "      <td>01/01/2021</td>\n",
       "      <td>05.517.165/0001-59</td>\n",
       "      <td>Pessoa jurídica</td>\n",
       "      <td>Principal</td>\n",
       "      <td>ANDREA DA SILVA VIEIRA</td>\n",
       "      <td>MG</td>\n",
       "      <td>MINAS GERAIS</td>\n",
       "      <td>PGFN</td>\n",
       "      <td>MINAS GERAIS</td>\n",
       "      <td>FGMG201500294</td>\n",
       "      <td>Em cobrança</td>\n",
       "      <td>INSCRITA</td>\n",
       "      <td>Contribuições FGTS</td>\n",
       "      <td>04/02/2015</td>\n",
       "      <td>NAO</td>\n",
       "      <td>12053.58</td>\n",
       "    </tr>\n",
       "  </tbody>\n",
       "</table>\n",
       "</div>"
      ],
      "text/plain": [
       "      PERIODO            CPF_CNPJ      TIPO_PESSOA TIPO_DEVEDOR  \\\n",
       "0  01/01/2021  06.286.147/0001-76  Pessoa jurídica    Principal   \n",
       "1  01/01/2021  06.286.147/0001-76  Pessoa jurídica    Principal   \n",
       "2  01/01/2021  17.268.863/0001-47  Pessoa jurídica    Principal   \n",
       "3  01/01/2021  19.376.161/0001-02  Pessoa jurídica    Principal   \n",
       "4  01/01/2021  05.517.165/0001-59  Pessoa jurídica    Principal   \n",
       "\n",
       "                                        NOME_DEVEDOR UF_UNIDADE_RESPONSAVEL  \\\n",
       "0            ART BRINDES INDUSTRIA E COMERCIO EIRELI                     MG   \n",
       "1            ART BRINDES INDUSTRIA E COMERCIO EIRELI                     MG   \n",
       "2                          JOAQUIM GERVASIO COUTINHO                     MG   \n",
       "3  HMAXX INDUSTRIA E COMERCIO DE ALIMENTOS E ADOC...                     MG   \n",
       "4                             ANDREA DA SILVA VIEIRA                     MG   \n",
       "\n",
       "  UNIDADE_RESPONSAVEL ENTIDADE_RESPONSAVEL UNIDADE_INSCRICAO NUMERO_INSCRICAO  \\\n",
       "0             UBERABA                 PGFN           UBERABA    CSMG201901085   \n",
       "1             UBERABA                 PGFN           UBERABA    FGMG202100105   \n",
       "2        MINAS GERAIS                 PGFN      MINAS GERAIS    FGBH000083351   \n",
       "3        MINAS GERAIS                 PGFN      MINAS GERAIS    FGMG201902652   \n",
       "4        MINAS GERAIS                 PGFN      MINAS GERAIS    FGMG201500294   \n",
       "\n",
       "  TIPO_SITUACAO_INSCRICAO SITUACAO_INSCRICAO           RECEITA_PRINCIPAL  \\\n",
       "0             Em cobrança           AJUIZADA  Contribuições LC110 (FGTS)   \n",
       "1             Em cobrança           INSCRITA          Contribuições FGTS   \n",
       "2             Em cobrança           AJUIZADA          Contribuições FGTS   \n",
       "3             Em cobrança           INSCRITA          Contribuições FGTS   \n",
       "4             Em cobrança           INSCRITA          Contribuições FGTS   \n",
       "\n",
       "  DATA_INSCRICAO INDICADOR_AJUIZADO  VALOR_CONSOLIDADO  \n",
       "0     05/06/2019                SIM            2291.91  \n",
       "1     03/02/2021                NAO           66986.07  \n",
       "2     05/08/1983                SIM            6354.85  \n",
       "3     05/11/2019                NAO           12820.18  \n",
       "4     04/02/2015                NAO           12053.58  "
      ]
     },
     "execution_count": 272,
     "metadata": {},
     "output_type": "execute_result"
    }
   ],
   "source": [
    "dividasMG.head()"
   ]
  },
  {
   "cell_type": "code",
   "execution_count": 215,
   "id": "ea5c9fe1",
   "metadata": {},
   "outputs": [],
   "source": [
    "df = dividasMG[['VALOR_CONSOLIDADO']]"
   ]
  },
  {
   "cell_type": "code",
   "execution_count": 216,
   "id": "23f137dd",
   "metadata": {},
   "outputs": [
    {
     "data": {
      "text/html": [
       "<div>\n",
       "<style scoped>\n",
       "    .dataframe tbody tr th:only-of-type {\n",
       "        vertical-align: middle;\n",
       "    }\n",
       "\n",
       "    .dataframe tbody tr th {\n",
       "        vertical-align: top;\n",
       "    }\n",
       "\n",
       "    .dataframe thead th {\n",
       "        text-align: right;\n",
       "    }\n",
       "</style>\n",
       "<table border=\"1\" class=\"dataframe\">\n",
       "  <thead>\n",
       "    <tr style=\"text-align: right;\">\n",
       "      <th></th>\n",
       "      <th>CPF_CNPJ</th>\n",
       "      <th>TIPO_PESSOA</th>\n",
       "      <th>TIPO_DEVEDOR</th>\n",
       "      <th>NOME_DEVEDOR</th>\n",
       "      <th>UF_UNIDADE_RESPONSAVEL</th>\n",
       "      <th>UNIDADE_RESPONSAVEL</th>\n",
       "      <th>ENTIDADE_RESPONSAVEL</th>\n",
       "      <th>UNIDADE_INSCRICAO</th>\n",
       "      <th>NUMERO_INSCRICAO</th>\n",
       "      <th>TIPO_SITUACAO_INSCRICAO</th>\n",
       "      <th>SITUACAO_INSCRICAO</th>\n",
       "      <th>RECEITA_PRINCIPAL</th>\n",
       "      <th>DATA_INSCRICAO</th>\n",
       "      <th>INDICADOR_AJUIZADO</th>\n",
       "      <th>VALOR_CONSOLIDADO</th>\n",
       "    </tr>\n",
       "    <tr>\n",
       "      <th>PERIODO</th>\n",
       "      <th></th>\n",
       "      <th></th>\n",
       "      <th></th>\n",
       "      <th></th>\n",
       "      <th></th>\n",
       "      <th></th>\n",
       "      <th></th>\n",
       "      <th></th>\n",
       "      <th></th>\n",
       "      <th></th>\n",
       "      <th></th>\n",
       "      <th></th>\n",
       "      <th></th>\n",
       "      <th></th>\n",
       "      <th></th>\n",
       "    </tr>\n",
       "  </thead>\n",
       "  <tbody>\n",
       "    <tr>\n",
       "      <th>01/01/2021</th>\n",
       "      <td>06.286.147/0001-76</td>\n",
       "      <td>Pessoa jurídica</td>\n",
       "      <td>Principal</td>\n",
       "      <td>ART BRINDES INDUSTRIA E COMERCIO EIRELI</td>\n",
       "      <td>MG</td>\n",
       "      <td>UBERABA</td>\n",
       "      <td>PGFN</td>\n",
       "      <td>UBERABA</td>\n",
       "      <td>CSMG201901085</td>\n",
       "      <td>Em cobrança</td>\n",
       "      <td>AJUIZADA</td>\n",
       "      <td>Contribuições LC110 (FGTS)</td>\n",
       "      <td>05/06/2019</td>\n",
       "      <td>SIM</td>\n",
       "      <td>2291.91</td>\n",
       "    </tr>\n",
       "    <tr>\n",
       "      <th>01/04/2021</th>\n",
       "      <td>22.905.919/0001-67</td>\n",
       "      <td>Pessoa jurídica</td>\n",
       "      <td>Principal</td>\n",
       "      <td>FUJI LANCHES LTDA</td>\n",
       "      <td>MG</td>\n",
       "      <td>MINAS GERAIS</td>\n",
       "      <td>PGFN</td>\n",
       "      <td>MINAS GERAIS</td>\n",
       "      <td>FGMG201901143</td>\n",
       "      <td>Em cobrança</td>\n",
       "      <td>INSCRITA</td>\n",
       "      <td>Contribuições FGTS</td>\n",
       "      <td>06/06/2019</td>\n",
       "      <td>NAO</td>\n",
       "      <td>4088.31</td>\n",
       "    </tr>\n",
       "    <tr>\n",
       "      <th>01/07/2021</th>\n",
       "      <td>03.200.004/0001-01</td>\n",
       "      <td>Pessoa jurídica</td>\n",
       "      <td>Principal</td>\n",
       "      <td>CONDOMINIO ESPECIAL BAHIA SHOPPING</td>\n",
       "      <td>MG</td>\n",
       "      <td>MINAS GERAIS</td>\n",
       "      <td>PGFN</td>\n",
       "      <td>MINAS GERAIS</td>\n",
       "      <td>CSMG200700070</td>\n",
       "      <td>Em cobrança</td>\n",
       "      <td>INSCRITA</td>\n",
       "      <td>Contribuições LC110 (FGTS)</td>\n",
       "      <td>11/04/2007</td>\n",
       "      <td>NAO</td>\n",
       "      <td>349.47</td>\n",
       "    </tr>\n",
       "    <tr>\n",
       "      <th>01/10/2021</th>\n",
       "      <td>05.667.429/0001-50</td>\n",
       "      <td>Pessoa jurídica</td>\n",
       "      <td>Principal</td>\n",
       "      <td>CEPAC  CENTRAL PAULISTA DE COUROS LTDA</td>\n",
       "      <td>MG</td>\n",
       "      <td>MINAS GERAIS</td>\n",
       "      <td>PGFN</td>\n",
       "      <td>MINAS GERAIS</td>\n",
       "      <td>FGMG201701442</td>\n",
       "      <td>Em cobrança</td>\n",
       "      <td>AJUIZADA</td>\n",
       "      <td>Contribuições FGTS</td>\n",
       "      <td>24/04/2017</td>\n",
       "      <td>SIM</td>\n",
       "      <td>16480.88</td>\n",
       "    </tr>\n",
       "  </tbody>\n",
       "</table>\n",
       "</div>"
      ],
      "text/plain": [
       "                      CPF_CNPJ      TIPO_PESSOA TIPO_DEVEDOR  \\\n",
       "PERIODO                                                        \n",
       "01/01/2021  06.286.147/0001-76  Pessoa jurídica    Principal   \n",
       "01/04/2021  22.905.919/0001-67  Pessoa jurídica    Principal   \n",
       "01/07/2021  03.200.004/0001-01  Pessoa jurídica    Principal   \n",
       "01/10/2021  05.667.429/0001-50  Pessoa jurídica    Principal   \n",
       "\n",
       "                                       NOME_DEVEDOR UF_UNIDADE_RESPONSAVEL  \\\n",
       "PERIODO                                                                      \n",
       "01/01/2021  ART BRINDES INDUSTRIA E COMERCIO EIRELI                     MG   \n",
       "01/04/2021                        FUJI LANCHES LTDA                     MG   \n",
       "01/07/2021       CONDOMINIO ESPECIAL BAHIA SHOPPING                     MG   \n",
       "01/10/2021   CEPAC  CENTRAL PAULISTA DE COUROS LTDA                     MG   \n",
       "\n",
       "           UNIDADE_RESPONSAVEL ENTIDADE_RESPONSAVEL UNIDADE_INSCRICAO  \\\n",
       "PERIODO                                                                 \n",
       "01/01/2021             UBERABA                 PGFN           UBERABA   \n",
       "01/04/2021        MINAS GERAIS                 PGFN      MINAS GERAIS   \n",
       "01/07/2021        MINAS GERAIS                 PGFN      MINAS GERAIS   \n",
       "01/10/2021        MINAS GERAIS                 PGFN      MINAS GERAIS   \n",
       "\n",
       "           NUMERO_INSCRICAO TIPO_SITUACAO_INSCRICAO SITUACAO_INSCRICAO  \\\n",
       "PERIODO                                                                  \n",
       "01/01/2021    CSMG201901085             Em cobrança           AJUIZADA   \n",
       "01/04/2021    FGMG201901143             Em cobrança           INSCRITA   \n",
       "01/07/2021    CSMG200700070             Em cobrança           INSCRITA   \n",
       "01/10/2021    FGMG201701442             Em cobrança           AJUIZADA   \n",
       "\n",
       "                     RECEITA_PRINCIPAL DATA_INSCRICAO INDICADOR_AJUIZADO  \\\n",
       "PERIODO                                                                    \n",
       "01/01/2021  Contribuições LC110 (FGTS)     05/06/2019                SIM   \n",
       "01/04/2021          Contribuições FGTS     06/06/2019                NAO   \n",
       "01/07/2021  Contribuições LC110 (FGTS)     11/04/2007                NAO   \n",
       "01/10/2021          Contribuições FGTS     24/04/2017                SIM   \n",
       "\n",
       "            VALOR_CONSOLIDADO  \n",
       "PERIODO                        \n",
       "01/01/2021            2291.91  \n",
       "01/04/2021            4088.31  \n",
       "01/07/2021             349.47  \n",
       "01/10/2021           16480.88  "
      ]
     },
     "execution_count": 216,
     "metadata": {},
     "output_type": "execute_result"
    }
   ],
   "source": [
    "agrupPeriodo.first()"
   ]
  },
  {
   "cell_type": "code",
   "execution_count": 236,
   "id": "8e7c9fc2",
   "metadata": {},
   "outputs": [
    {
     "name": "stdout",
     "output_type": "stream",
     "text": [
      "[32728, 32244, 28181, 28022]\n"
     ]
    }
   ],
   "source": [
    "## Definindo as variaveis a serem utilizadas\n",
    "x = dividasMG['PERIODO'].value_counts().tolist()\n",
    "y = pd.DatetimeIndex(dividasMG.groupby(['PERIODO']).groups.keys()).day\n",
    "print(x)"
   ]
  },
  {
   "cell_type": "code",
   "execution_count": 218,
   "id": "9b783c4c",
   "metadata": {},
   "outputs": [
    {
     "name": "stdout",
     "output_type": "stream",
     "text": [
      "   Periodo  QtdePorPeriodo  TotalPorPeriodo\n",
      "0        1           32728     1.902615e+09\n",
      "1        4           32244     2.028318e+09\n",
      "2        7           28181     2.101908e+09\n",
      "3       10           28022     2.115273e+09\n"
     ]
    }
   ],
   "source": [
    "##Simplificando Dataframe com campos mais importantes para análise\n",
    "data = { 'Periodo': y,\n",
    "         'QtdePorPeriodo': x,\n",
    "         'TotalPorPeriodo': totalPorPeriodo\n",
    "       }\n",
    "\n",
    "newDf = pd.DataFrame(data)\n",
    "print(newDf)"
   ]
  },
  {
   "cell_type": "code",
   "execution_count": 219,
   "id": "3ed9fc7c",
   "metadata": {},
   "outputs": [
    {
     "data": {
      "image/png": "[encoded data removed]",
      "text/plain": [
       "<Figure size 640x480 with 1 Axes>"
      ]
     },
     "metadata": {},
     "output_type": "display_data"
    }
   ],
   "source": [
    "##Scatter Plot\n",
    "plt.scatter(x, y)\n",
    "plt.show()"
   ]
  },
  {
   "cell_type": "code",
   "execution_count": 220,
   "id": "b5ce99ff",
   "metadata": {},
   "outputs": [
    {
     "data": {
      "image/png": "[encoded data removed]",
      "text/plain": [
       "<Figure size 640x480 with 1 Axes>"
      ]
     },
     "metadata": {},
     "output_type": "display_data"
    }
   ],
   "source": [
    "##Linear Regression\n",
    "slope, intercept, r, p, std_err = stats.linregress(x, y)\n",
    "\n",
    "def myfunc(x):\n",
    "  return slope * x + intercept\n",
    "\n",
    "mymodel = list(map(myfunc, x))\n",
    "\n",
    "plt.scatter(x, y)\n",
    "plt.plot(x, mymodel)\n",
    "plt.show()"
   ]
  },
  {
   "cell_type": "code",
   "execution_count": 221,
   "id": "67f6842e",
   "metadata": {},
   "outputs": [
    {
     "name": "stdout",
     "output_type": "stream",
     "text": [
      "48.18039394074245\n"
     ]
    }
   ],
   "source": [
    "##Linear Regression - Prediction\n",
    "##Quantidade de devedores por periodo em 5 anos\n",
    "slope, intercept, r, p, std_err = stats.linregress(x, y)\n",
    "\n",
    "def myfunc(x):\n",
    "  return slope * x + intercept\n",
    "\n",
    "speed = myfunc(5)\n",
    "\n",
    "print(speed)"
   ]
  },
  {
   "cell_type": "code",
   "execution_count": 222,
   "id": "82bb22c9",
   "metadata": {},
   "outputs": [
    {
     "data": {
      "image/png": "[encoded data removed]",
      "text/plain": [
       "<Figure size 640x480 with 1 Axes>"
      ]
     },
     "metadata": {},
     "output_type": "display_data"
    }
   ],
   "source": [
    "slope, intercept, r, p, std_err = stats.linregress(x, y)\n",
    "\n",
    "def myfunc(x):\n",
    "  return slope * x + intercept\n",
    "\n",
    "mymodel = list(map(myfunc, x))\n",
    "\n",
    "plt.scatter(x, y)\n",
    "plt.plot(x, mymodel)\n",
    "plt.show()"
   ]
  },
  {
   "cell_type": "code",
   "execution_count": 223,
   "id": "7b6953f8",
   "metadata": {},
   "outputs": [
    {
     "name": "stdout",
     "output_type": "stream",
     "text": [
      "-0.9241060008021352\n"
     ]
    }
   ],
   "source": [
    "slope, intercept, r, p, std_err = stats.linregress(x, y)\n",
    "\n",
    "print(r)"
   ]
  },
  {
   "cell_type": "code",
   "execution_count": 224,
   "id": "6b391550",
   "metadata": {},
   "outputs": [],
   "source": [
    "##Multiple Regression\n",
    "totalPorPeriodo = round(dividasMG.groupby(['PERIODO'])['VALOR_CONSOLIDADO'].agg('sum'), 2).tolist()"
   ]
  },
  {
   "cell_type": "code",
   "execution_count": 225,
   "id": "91389623",
   "metadata": {},
   "outputs": [],
   "source": [
    "from sklearn.linear_model import LinearRegression\n",
    "from sklearn.model_selection import train_test_split"
   ]
  },
  {
   "cell_type": "code",
   "execution_count": 226,
   "id": "db6d3c00",
   "metadata": {},
   "outputs": [],
   "source": [
    "data_pred = 30;\n",
    "\n",
    "df['Prediction'] = df[['VALOR_CONSOLIDADO']]"
   ]
  },
  {
   "cell_type": "code",
   "execution_count": 227,
   "id": "2970f2ce",
   "metadata": {},
   "outputs": [],
   "source": [
    "X = np.array(df.drop(['Prediction'], axis=1))\n",
    "X = X[:-data_pred]"
   ]
  },
  {
   "cell_type": "code",
   "execution_count": 228,
   "id": "d76dee15",
   "metadata": {},
   "outputs": [],
   "source": [
    "y = np.array(df['Prediction'])\n",
    "y = y[:-data_pred]"
   ]
  },
  {
   "cell_type": "code",
   "execution_count": 229,
   "id": "99f2712e",
   "metadata": {},
   "outputs": [],
   "source": [
    "##Teste de 30%\n",
    "X_train, X_test, y_train, y_test = train_test_split(X, y, test_size=0.3, random_state=1)"
   ]
  },
  {
   "cell_type": "code",
   "execution_count": 230,
   "id": "af493743",
   "metadata": {},
   "outputs": [],
   "source": [
    "x_pred = np.array(df.drop(['Prediction'], 1))[-data_pred: ]"
   ]
  },
  {
   "cell_type": "code",
   "execution_count": 231,
   "id": "c4a19035",
   "metadata": {},
   "outputs": [
    {
     "data": {
      "text/html": [
       "<style>#sk-container-id-6 {color: black;background-color: white;}#sk-container-id-6 pre{padding: 0;}#sk-container-id-6 div.sk-toggleable {background-color: white;}#sk-container-id-6 label.sk-toggleable__label {cursor: pointer;display: block;width: 100%;margin-bottom: 0;padding: 0.3em;box-sizing: border-box;text-align: center;}#sk-container-id-6 label.sk-toggleable__label-arrow:before {content: \"▸\";float: left;margin-right: 0.25em;color: #696969;}#sk-container-id-6 label.sk-toggleable__label-arrow:hover:before {color: black;}#sk-container-id-6 div.sk-estimator:hover label.sk-toggleable__label-arrow:before {color: black;}#sk-container-id-6 div.sk-toggleable__content {max-height: 0;max-width: 0;overflow: hidden;text-align: left;background-color: #f0f8ff;}#sk-container-id-6 div.sk-toggleable__content pre {margin: 0.2em;color: black;border-radius: 0.25em;background-color: #f0f8ff;}#sk-container-id-6 input.sk-toggleable__control:checked~div.sk-toggleable__content {max-height: 200px;max-width: 100%;overflow: auto;}#sk-container-id-6 input.sk-toggleable__control:checked~label.sk-toggleable__label-arrow:before {content: \"▾\";}#sk-container-id-6 div.sk-estimator input.sk-toggleable__control:checked~label.sk-toggleable__label {background-color: #d4ebff;}#sk-container-id-6 div.sk-label input.sk-toggleable__control:checked~label.sk-toggleable__label {background-color: #d4ebff;}#sk-container-id-6 input.sk-hidden--visually {border: 0;clip: rect(1px 1px 1px 1px);clip: rect(1px, 1px, 1px, 1px);height: 1px;margin: -1px;overflow: hidden;padding: 0;position: absolute;width: 1px;}#sk-container-id-6 div.sk-estimator {font-family: monospace;background-color: #f0f8ff;border: 1px dotted black;border-radius: 0.25em;box-sizing: border-box;margin-bottom: 0.5em;}#sk-container-id-6 div.sk-estimator:hover {background-color: #d4ebff;}#sk-container-id-6 div.sk-parallel-item::after {content: \"\";width: 100%;border-bottom: 1px solid gray;flex-grow: 1;}#sk-container-id-6 div.sk-label:hover label.sk-toggleable__label {background-color: #d4ebff;}#sk-container-id-6 div.sk-serial::before {content: \"\";position: absolute;border-left: 1px solid gray;box-sizing: border-box;top: 0;bottom: 0;left: 50%;z-index: 0;}#sk-container-id-6 div.sk-serial {display: flex;flex-direction: column;align-items: center;background-color: white;padding-right: 0.2em;padding-left: 0.2em;position: relative;}#sk-container-id-6 div.sk-item {position: relative;z-index: 1;}#sk-container-id-6 div.sk-parallel {display: flex;align-items: stretch;justify-content: center;background-color: white;position: relative;}#sk-container-id-6 div.sk-item::before, #sk-container-id-6 div.sk-parallel-item::before {content: \"\";position: absolute;border-left: 1px solid gray;box-sizing: border-box;top: 0;bottom: 0;left: 50%;z-index: -1;}#sk-container-id-6 div.sk-parallel-item {display: flex;flex-direction: column;z-index: 1;position: relative;background-color: white;}#sk-container-id-6 div.sk-parallel-item:first-child::after {align-self: flex-end;width: 50%;}#sk-container-id-6 div.sk-parallel-item:last-child::after {align-self: flex-start;width: 50%;}#sk-container-id-6 div.sk-parallel-item:only-child::after {width: 0;}#sk-container-id-6 div.sk-dashed-wrapped {border: 1px dashed gray;margin: 0 0.4em 0.5em 0.4em;box-sizing: border-box;padding-bottom: 0.4em;background-color: white;}#sk-container-id-6 div.sk-label label {font-family: monospace;font-weight: bold;display: inline-block;line-height: 1.2em;}#sk-container-id-6 div.sk-label-container {text-align: center;}#sk-container-id-6 div.sk-container {/* jupyter's `normalize.less` sets `[hidden] { display: none; }` but bootstrap.min.css set `[hidden] { display: none !important; }` so we also need the `!important` here to be able to override the default hidden behavior on the sphinx rendered scikit-learn.org. See: https://github.com/scikit-learn/scikit-learn/issues/21755 */display: inline-block !important;position: relative;}#sk-container-id-6 div.sk-text-repr-fallback {display: none;}</style><div id=\"sk-container-id-6\" class=\"sk-top-container\"><div class=\"sk-text-repr-fallback\"><pre>LinearRegression()</pre><b>In a Jupyter environment, please rerun this cell to show the HTML representation or trust the notebook. <br />On GitHub, the HTML representation is unable to render, please try loading this page with nbviewer.org.</b></div><div class=\"sk-container\" hidden><div class=\"sk-item\"><div class=\"sk-estimator sk-toggleable\"><input class=\"sk-toggleable__control sk-hidden--visually\" id=\"sk-estimator-id-6\" type=\"checkbox\" checked><label for=\"sk-estimator-id-6\" class=\"sk-toggleable__label sk-toggleable__label-arrow\">LinearRegression</label><div class=\"sk-toggleable__content\"><pre>LinearRegression()</pre></div></div></div></div></div>"
      ],
      "text/plain": [
       "LinearRegression()"
      ]
     },
     "execution_count": 231,
     "metadata": {},
     "output_type": "execute_result"
    }
   ],
   "source": [
    "lr = LinearRegression()\n",
    "lr.fit(X_train, y_train)"
   ]
  },
  {
   "cell_type": "code",
   "execution_count": 232,
   "id": "6eebeafb",
   "metadata": {},
   "outputs": [
    {
     "name": "stdout",
     "output_type": "stream",
     "text": [
      "1.0\n"
     ]
    }
   ],
   "source": [
    "teste_modelo = lr.score(X_test, y_test)\n",
    "print(teste_modelo)"
   ]
  },
  {
   "cell_type": "code",
   "execution_count": 233,
   "id": "8bae83bd",
   "metadata": {},
   "outputs": [],
   "source": [
    "lr_pred = lr.predict(x_pred)"
   ]
  },
  {
   "cell_type": "code",
   "execution_count": 242,
   "id": "f0badfac",
   "metadata": {},
   "outputs": [
    {
     "data": {
      "image/png": "[encoded data removed]",
      "text/plain": [
       "<Figure size 1000x500 with 1 Axes>"
      ]
     },
     "metadata": {},
     "output_type": "display_data"
    }
   ],
   "source": [
    "predictions = lr_pred\n",
    "\n",
    "valid = df[X.shape[0]:]\n",
    "valid['Predictions'] = predictions\n",
    "plt.figure(figsize=(10,5))\n",
    "plt.title('Linear Regression')\n",
    "plt.xlabel('Valor total')\n",
    "plt.ylabel('Período')\n",
    "plt.plot(df['VALOR_CONSOLIDADO'][0:])\n",
    "plt.plot(valid[['VALOR_CONSOLIDADO', 'Predictions']])\n",
    "plt.legend(['Valor', 'Predição'])\n",
    "plt.show()"
   ]
  }
 ],
 "metadata": {
  "kernelspec": {
   "display_name": "Python 3 (ipykernel)",
   "language": "python",
   "name": "python3"
  },
  "language_info": {
   "codemirror_mode": {
    "name": "ipython",
    "version": 3
   },
   "file_extension": ".py",
   "mimetype": "text/x-python",
   "name": "python",
   "nbconvert_exporter": "python",
   "pygments_lexer": "ipython3",
   "version": "3.10.9"
  }
 },
 "nbformat": 4,
 "nbformat_minor": 5
}
